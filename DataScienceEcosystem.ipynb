{
  "metadata": {
    "kernelspec": {
      "name": "python",
      "display_name": "Python (Pyodide)",
      "language": "python"
    },
    "language_info": {
      "codemirror_mode": {
        "name": "python",
        "version": 3
      },
      "file_extension": ".py",
      "mimetype": "text/x-python",
      "name": "python",
      "nbconvert_exporter": "python",
      "pygments_lexer": "ipython3",
      "version": "3.8"
    }
  },
  "nbformat_minor": 4,
  "nbformat": 4,
  "cells": [
    {
      "cell_type": "markdown",
      "source": "# Data Science Tools and Ecosystem",
      "metadata": {}
    },
    {
      "cell_type": "markdown",
      "source": "En este cuaderno, se resumen las herramientas y ecosistemas de ciencia de datos.",
      "metadata": {}
    },
    {
      "cell_type": "markdown",
      "source": "### *Objetivos:*\n\n+Listar lenguajes populares para Ciencia de Datos\n\n+Listar repositorios populares para Ciencia de Datos\n\n+Introducción a cuadernos jupyter\n\n+Herramientas Ciencias de Datos",
      "metadata": {}
    },
    {
      "cell_type": "markdown",
      "source": "Algunos de los lenguajes populares que utilizan los científicos de datos son:\n1. Python\n2. R\n3. Sql",
      "metadata": {}
    },
    {
      "cell_type": "markdown",
      "source": "Algunas de las bibliotecas comúnmente utilizadas por los científicos de datos incluyen:\n1. Pandas\n2. Numpy\n3. Ploty",
      "metadata": {}
    },
    {
      "cell_type": "markdown",
      "source": "|Herramientas de Ciencia de Datos|\n|--------------------------------|\n|           Python               |\n|        Apache Spark            |\n|           Hadoop               |",
      "metadata": {}
    },
    {
      "cell_type": "markdown",
      "source": "### A continuación, se presentan algunos ejemplos de evaluación de expresiones aritméticas en Python",
      "metadata": {}
    },
    {
      "cell_type": "code",
      "source": "#Esta es una expresión aritmética simple para multiplicar y luego sumar enteros\n(3*4)+5",
      "metadata": {
        "trusted": true
      },
      "outputs": [
        {
          "execution_count": 2,
          "output_type": "execute_result",
          "data": {
            "text/plain": "17"
          },
          "metadata": {}
        }
      ],
      "execution_count": 2
    },
    {
      "cell_type": "code",
      "source": "#Esto convertirá 200 minutos a horas dividiendo por 60\nminutos = 200\nhoras = minutos/60\nprint(f\"{minutos} minutos son {horas:.2f} horas.\")",
      "metadata": {
        "trusted": true
      },
      "outputs": [
        {
          "name": "stdout",
          "text": "200 minutos son 3.33 horas.\n",
          "output_type": "stream"
        }
      ],
      "execution_count": 4
    },
    {
      "cell_type": "markdown",
      "source": "## Autor\nAngel Rosillo",
      "metadata": {}
    }
  ]
}